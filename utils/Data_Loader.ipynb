{
 "cells": [
  {
   "cell_type": "markdown",
   "metadata": {},
   "source": [
    "<div style=\"float:left\">\n",
    "            <h1 style=\"width:450px\">Data Creation Notebook</h1>\n",
    "    <h2 style=\"width:450px\">Assemble Training Data for <i>Intro to Programming</i></h2>\n",
    "</div>\n",
    "<div style=\"float:right\"><img width=\"100\" src=\"https://github.com/jreades/i2p/raw/master/img/casa_logo.jpg\" /></div>"
   ]
  },
  {
   "cell_type": "markdown",
   "metadata": {},
   "source": [
    "This notebook creates the composite data set used in the Geocomputation module. You are welcome to add additional data sets for the purposes of the final assessment in the module if you so wish."
   ]
  },
  {
   "cell_type": "code",
   "execution_count": null,
   "metadata": {},
   "outputs": [],
   "source": [
    "import matplotlib as mpl\n",
    "%matplotlib inline\n",
    "import matplotlib.pyplot as plt"
   ]
  },
  {
   "cell_type": "code",
   "execution_count": null,
   "metadata": {},
   "outputs": [],
   "source": [
    "import pandas as pd\n",
    "import geopandas as gpd"
   ]
  },
  {
   "cell_type": "markdown",
   "metadata": {},
   "source": [
    "## AirBnb Listings\n",
    "\n",
    "We take the large data set here since we want to give the students maximum flexibility to find attributes of interest in the data set.\n",
    "\n",
    "Assemble the URL in a way that makes it easy to change the extract over time/geography/type"
   ]
  },
  {
   "cell_type": "code",
   "execution_count": null,
   "metadata": {},
   "outputs": [],
   "source": [
    "import os\n",
    "from urllib.parse import urlunsplit, urlencode\n",
    "date   = '2020-08-24'\n",
    "fn     = 'listings.csv.gz'\n",
    "scheme = os.environ.get(\"SCHEME\", \"http\")\n",
    "site   = os.environ.get(\"NETLOC\", \"data.insideairbnb.com\")\n",
    "loc    = os.path.join('united-kingdom','england','london')\n",
    "data   = os.path.join('data',fn)\n",
    "path   = f\"{loc}/{date}/{data}\"\n",
    "url    = urlunsplit((scheme, site, path, \"\", \"\"))\n",
    "\n",
    "# Where to write data\n",
    "opath  = os.path.join('data','src')"
   ]
  },
  {
   "cell_type": "markdown",
   "metadata": {},
   "source": [
    "Download and check the shape of the data set"
   ]
  },
  {
   "cell_type": "code",
   "execution_count": null,
   "metadata": {},
   "outputs": [],
   "source": [
    "df = pd.read_csv(url, low_memory=False) # The 'low memory' option means pandas doesn't guess data types\n",
    "print(\"Data frame shape: \" + str(df.shape)) # What is the shape of the data?"
   ]
  },
  {
   "cell_type": "markdown",
   "metadata": {},
   "source": [
    "Write it to a CSV using whatever compression scheme was specified in the 'fn'."
   ]
  },
  {
   "cell_type": "code",
   "execution_count": null,
   "metadata": {},
   "outputs": [],
   "source": [
    "df.to_csv(os.path.join(opath,f\"{date}-{fn}\"), index=False)\n",
    "print(df.columns.values)"
   ]
  },
  {
   "cell_type": "markdown",
   "metadata": {},
   "source": [
    "Take a subsample for use in Weeks 2–4."
   ]
  },
  {
   "cell_type": "code",
   "execution_count": null,
   "metadata": {},
   "outputs": [],
   "source": [
    "cols = ['id','name','description','host_id','host_name','host_since','latitude','longitude',\n",
    "        'property_type','room_type','accommodates','bathrooms','bedrooms','beds','price',\n",
    "       'minimum_nights','maximum_nights','availability_30','availability_60','availability_90','availability_365',\n",
    "       'number_of_reviews','first_review','last_review','review_scores_rating','calculated_host_listings_count']\n",
    "dfs = df.sample(100, random_state=42)[cols]\n",
    "print(\"Data frame shape: \" + str(dfs.shape))\n",
    "\n",
    "dfs.to_csv(os.path.join(opath,f\"{date}-sample-{fn}\"), index=False)"
   ]
  },
  {
   "cell_type": "markdown",
   "metadata": {},
   "source": [
    "And now convert the entire df to a geo-data frame."
   ]
  },
  {
   "cell_type": "code",
   "execution_count": null,
   "metadata": {},
   "outputs": [],
   "source": [
    "# Convert lat/log to points\n",
    "from shapely.geometry import Point\n",
    "geometry = [Point(xy) for xy in zip(df.longitude, df.latitude)]\n",
    "\n",
    "# Drop these columns and reproject into OSBG\n",
    "df.drop(['longitude', 'latitude'], axis=1, inplace=True)\n",
    "airbnb = gpd.GeoDataFrame(df, crs=\"EPSG:4326\", geometry=geometry)\n",
    "airbnb = airbnb.to_crs('EPSG:27700')\n",
    "airbnb.plot(marker='*', color='green', markersize=1)\n",
    "del(df)"
   ]
  },
  {
   "cell_type": "markdown",
   "metadata": {},
   "source": [
    "## LSOA Data\n",
    "\n",
    "Since we don't really cover spatial joins in this class I've appended the LSOA values from 2011 here so that students can add on other information of interest and/or aggregate the listings in useful ways."
   ]
  },
  {
   "cell_type": "code",
   "execution_count": null,
   "metadata": {},
   "outputs": [],
   "source": [
    "lsoas = gpd.read_file('https://github.com/jreades/i2p/raw/master/data/src/LSOAs.gpkg', driver='GPKG')\n",
    "lsoas.plot()"
   ]
  },
  {
   "cell_type": "markdown",
   "metadata": {},
   "source": [
    "## Join the Data\n",
    "\n",
    "Join the LSOA and Inside Airbnb data sets."
   ]
  },
  {
   "cell_type": "code",
   "execution_count": null,
   "metadata": {},
   "outputs": [],
   "source": [
    "# Spatial join in way that preserves Inside Airbnb coordinates\n",
    "gdf = gpd.sjoin(airbnb, lsoas, how=\"left\", op='within', rsuffix='r')\n",
    "gdf.drop(columns=['index_r','objectid','lsoa11nmw','st_lengths'], inplace=True)\n",
    "gdf.plot(marker='*', color='green', markersize=0.5)"
   ]
  },
  {
   "cell_type": "markdown",
   "metadata": {},
   "source": [
    "## Wrapping Up\n",
    "\n",
    "Save the final output for use by students. In the interests of having some kind of versioning we capture the date and file name from the Inside Airbnb web site. Changing the URL definition above should ensure that we don't mindless overwrite each year's data."
   ]
  },
  {
   "cell_type": "code",
   "execution_count": null,
   "metadata": {},
   "outputs": [],
   "source": [
    "import os\n",
    "gpkg = f\"{date}-{fn}\".replace('csv.gz','gpkg')\n",
    "\n",
    "# And save.\n",
    "gdf.to_file(os.path.join(opath,gpkg), driver='GPKG')"
   ]
  }
 ],
 "metadata": {
  "anaconda-cloud": {},
  "kernelspec": {
   "display_name": "Python 3",
   "language": "python",
   "name": "python3"
  },
  "language_info": {
   "codemirror_mode": {
    "name": "ipython",
    "version": 3
   },
   "file_extension": ".py",
   "mimetype": "text/x-python",
   "name": "python",
   "nbconvert_exporter": "python",
   "pygments_lexer": "ipython3",
   "version": "3.7.8"
  }
 },
 "nbformat": 4,
 "nbformat_minor": 4
}
