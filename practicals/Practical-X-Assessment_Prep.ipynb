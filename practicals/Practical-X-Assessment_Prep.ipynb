{
 "cells": [
  {
   "cell_type": "markdown",
   "metadata": {},
   "source": [
    "# Assessment \\#2 (Code Assessment)"
   ]
  },
  {
   "cell_type": "markdown",
   "metadata": {},
   "source": [
    "## Assessment Formalities\n",
    "\n",
    "This assessment comprises 15% of the TOTAL MARK for this module. Unless you have a KIP and have arranged additional time via the proper procedure, you will have 2 hours between being provided with this notebook and the submission deadline. The code assessment is to be completed **in-class** but you may do so on either your own computer or a cluster PC.\n",
    "\n",
    "For each of the tasks in this assessment you will be asked to write/fill in the missing code, required to complete the specified task. The number of marks available for each task are noted below.\n",
    "\n",
    "### Assessment Criteria\n",
    "\n",
    "Marks for each task will be weighted as follows: \n",
    "- 60% for _functionality_ (i.e. does the code complete the task as required?) \n",
    "- 40% for _efficiency and elegance_ (i.e. is this a logical and succinct way of completing the task?). \n",
    "\n",
    "Suggestions and hints are provided for some questions where we feel that this is appropriate.\n",
    "\n",
    "### Submission Deadline\n",
    "\n",
    "You should save your final notebook file in the format <i>5SSG2069\\_CW2\\_StudentIDNumber.ipynb</i> and submit in the relevant location [on KEATS](https://keats.kcl.ac.uk/course/view.php?id=65824) by the deadline above.\n",
    "\n",
    "The deadline--barring a KIP and prior arrangement with Isobel (per the Syllabus)--is therefore **12:15pm on 23 October 2019**."
   ]
  },
  {
   "cell_type": "markdown",
   "metadata": {},
   "source": [
    "## Purpose of the Assessment\n",
    "\n",
    "This assessment is designed to test your comprehension of the techniques covered in Weeks 1-4 of _Geocomputation_. We do this by requiring you, primarily, to **adapt** code that you have already written and/or used to a **new data set**. The process of adaptation mirrors that used by younger professional developers, and by requiring you to do this with a data set that you have not worked on we can better see how well the underlying concepts have been understood without asking you to learn new methods, functions, or techniques 'on the fly'.\n",
    "\n",
    "You _may_ use Google, Stack Overflow, previous notebooks, and other available online resources to help you with the assessment. You _may not_ message friends/family/Slack/StackOverflow with questions that in are in any way related to the assessment. \n",
    "\n",
    "## About the NS-SeC Data\n",
    "\n",
    "You will be working with [NS-SeC Data](https://www.ons.gov.uk/methodology/classificationsandstandards/otherclassifications/thenationalstatisticssocioeconomicclassificationnssecrebasedonsoc2010) at the LSOA (Lower Super Output Area) scale. NS-SeC is short for the National Statistics Socio-economic Classification and is designed by the Office for National Statistics to provide a general overview of employment-based 'class'. You might also find the context provided by [Wikipedia](https://en.wikipedia.org/wiki/National_Statistics_Socio-economic_Classification) to be helpful to your understanding of its contents.\n",
    "\n",
    "_**Note**_: although it is not necessary that you understand or research the contents of the NS-SeC data set in order to successfully complete this assessment, we believe that it may help you in some contexts to understand the nature of a task, or its inputs and outputs. The material offered in advance is designed to be supportive without in any way enabling you to anticipate the nature of the assessment."
   ]
  },
  {
   "cell_type": "markdown",
   "metadata": {},
   "source": [
    "### Layout of the NS-SeC Data File\n",
    "\n",
    "Each row in the table represents a LSOA. Fields (columns) are described in the Table below. \n",
    "\n",
    "\n",
    "|Field|Description|Units| \n",
    "| :- | :- | :- |\n",
    "|GEO_CODE|LSOA Code|None|\n",
    "|GEO_LABEL |LSOA Name |None |\n",
    "|Total\t|All Groups | Persons (count) |\n",
    "|Group1\t|Higher managerial, administrative and professional occupations | Persons (count) |\n",
    "|Group2\t|Lower managerial, administrative and professional occupations | Persons (count) |\n",
    "|Group3\t|Intermediate occupations | Persons (count) |\n",
    "|Group4\t|Small employers and own account workers | Persons (count) |\n",
    "|Group5\t|Lower supervisory and technical occupations | Persons (count) |\n",
    "|Group6\t|Semi-routine occupations | Persons (count) |\n",
    "|Group7\t|Routine occupations | Persons (count) |\n",
    "|Group8\t|Never worked and long-term unemployed | Persons (count) |"
   ]
  }
 ],
 "metadata": {
  "anaconda-cloud": {},
  "kernelspec": {
   "display_name": "GSA2019",
   "language": "python",
   "name": "gsa2019"
  },
  "language_info": {
   "codemirror_mode": {
    "name": "ipython",
    "version": 3
   },
   "file_extension": ".py",
   "mimetype": "text/x-python",
   "name": "python",
   "nbconvert_exporter": "python",
   "pygments_lexer": "ipython3",
   "version": "3.7.3"
  }
 },
 "nbformat": 4,
 "nbformat_minor": 4
}
